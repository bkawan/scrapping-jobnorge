{
 "cells": [
  {
   "cell_type": "markdown",
   "metadata": {},
   "source": [
    "- @author bkawan\n",
    "- @date 13 May 2016"
   ]
  },
  {
   "cell_type": "code",
   "execution_count": 1,
   "metadata": {
    "collapsed": true
   },
   "outputs": [],
   "source": [
    "import requests\n",
    "from bs4 import BeautifulSoup\n",
    "from datetime import datetime\n",
    "import datetime"
   ]
  },
  {
   "cell_type": "code",
   "execution_count": 2,
   "metadata": {
    "collapsed": false
   },
   "outputs": [],
   "source": [
    "# 'https://www.jobbnorge.no/en/available-jobs/research-development?page=1'\n",
    "url = 'https://www.jobbnorge.no/en/available-jobs/research-development'\n",
    "request = requests.get(url)\n",
    "soup = BeautifulSoup(request.content,'lxml')"
   ]
  },
  {
   "cell_type": "code",
   "execution_count": 3,
   "metadata": {
    "collapsed": false
   },
   "outputs": [],
   "source": [
    "pagi_links = soup.findAll('div',{'class':'pagination'})"
   ]
  },
  {
   "cell_type": "code",
   "execution_count": 4,
   "metadata": {
    "collapsed": false
   },
   "outputs": [],
   "source": [
    "#pagi_links"
   ]
  },
  {
   "cell_type": "code",
   "execution_count": 5,
   "metadata": {
    "collapsed": false
   },
   "outputs": [],
   "source": [
    "# for a in soup.select('div a[href]'): ## select all href inside div\n",
    "#     print (a)"
   ]
  },
  {
   "cell_type": "code",
   "execution_count": 6,
   "metadata": {
    "collapsed": false
   },
   "outputs": [
    {
     "data": {
      "text/plain": [
       "6"
      ]
     },
     "execution_count": 6,
     "metadata": {},
     "output_type": "execute_result"
    }
   ],
   "source": [
    "pagi_link_count=0\n",
    "for a in soup.select('div.pagination a[href]'): # select all href inside div with class pagination\n",
    "    pagi_link_count +=1\n",
    "pagi_link_count"
   ]
  },
  {
   "cell_type": "code",
   "execution_count": 7,
   "metadata": {
    "collapsed": false
   },
   "outputs": [],
   "source": [
    "i = 1\n",
    "total_jobs = 0\n",
    "job_link = []\n",
    "while i < (pagi_link_count+1):\n",
    "    url = 'https://www.jobbnorge.no/en/available-jobs/research-development?page={}'.format(i)\n",
    "    req = requests.get(url)\n",
    "    soup = BeautifulSoup(req.content,'lxml')\n",
    "    all_jobs = soup.findAll('span',{'itemprop':'title'})\n",
    "    for jobs in all_jobs:\n",
    "#         print(jobs.text)\n",
    "        links =jobs.findAll('a')\n",
    "        for link in links:\n",
    "            job = \"https://www.jobbnorge.no/{}\".format(link['href'])\n",
    "            job_link.append(job)\n",
    "#             print(link['href'])\n",
    "            total_jobs +=1\n",
    "    i +=1"
   ]
  },
  {
   "cell_type": "code",
   "execution_count": 8,
   "metadata": {
    "collapsed": false
   },
   "outputs": [
    {
     "data": {
      "text/plain": [
       "134"
      ]
     },
     "execution_count": 8,
     "metadata": {},
     "output_type": "execute_result"
    }
   ],
   "source": [
    "total_jobs"
   ]
  },
  {
   "cell_type": "code",
   "execution_count": 9,
   "metadata": {
    "collapsed": false
   },
   "outputs": [
    {
     "data": {
      "text/plain": [
       "134"
      ]
     },
     "execution_count": 9,
     "metadata": {},
     "output_type": "execute_result"
    }
   ],
   "source": [
    "len(job_link)\n"
   ]
  },
  {
   "cell_type": "code",
   "execution_count": null,
   "metadata": {
    "collapsed": false
   },
   "outputs": [],
   "source": [
    "import smtplib\n",
    "from email.header import Header\n",
    "from email.utils import formataddr\n",
    "def mail(TO,job,job_count):\n",
    "    SUBJECT = \"jobbnorge ({}) Jobs Expiring Soon Hurry UP!!\".format(job_count)\n",
    "    TEXT = \"{}\\n\\n\\n The End.....\".format(job)\n",
    "    # Gmail Sign In\n",
    "    gmail_sender = 'senderemail@gmail.com'\n",
    "    gmail_passwd = 'senderpassword'\n",
    "\n",
    "    server = smtplib.SMTP('smtp.gmail.com', 587)\n",
    "    server.ehlo()\n",
    "    server.starttls()\n",
    "    server.login(gmail_sender, gmail_passwd)\n",
    "    author = formataddr((str(Header(u'{} Jobs Expiring in a Week! HURRY UP !!'.format(job_count), 'utf-8')), \"sendermail@gmail.com\"))\n",
    "    BODY = '\\r\\n'.join(['To: %s' % TO,'From: %s' % author,'Subject: %s' % SUBJECT,' ', TEXT])\n",
    "    BODY = BODY.encode('ascii','ignore')\n",
    "                        \n",
    "                        \n",
    "\n",
    "    try:\n",
    "        server.sendmail(gmail_sender, [TO], BODY)\n",
    "        print ('email sent')\n",
    "    except:\n",
    "        print(\"Seiding email failed\")\n",
    "\n",
    "\n",
    "    server.quit()"
   ]
  },
  {
   "cell_type": "code",
   "execution_count": null,
   "metadata": {
    "collapsed": false
   },
   "outputs": [
    {
     "name": "stdout",
     "output_type": "stream",
     "text": [
      "[1] :  False\n",
      "Days Left:  34 \n",
      "*************\n",
      "\n",
      "[2] :  False\n",
      "Days Left:  17 \n",
      "*************\n",
      "\n",
      "[3] :  False\n",
      "Days Left:  8 \n",
      "*************\n",
      "\n",
      "[4] :  False\n",
      "Days Left:  10 \n",
      "*************\n",
      "\n",
      "[5] :  True\n",
      "Days Left: 7\n",
      "PhD position in Algorithms\n",
      "https://www.jobbnorge.no//en/available-jobs/job/125338/phd-position-in-algorithms\n",
      "*****************************************\n",
      "[5] :  False\n",
      "Days Left:  7 \n",
      "*************\n",
      "\n",
      "[6] :  False\n",
      "Days Left:  85 \n",
      "*************\n",
      "\n",
      "[7] :  False\n",
      "Days Left:  15 \n",
      "*************\n",
      "\n",
      "[8] :  False\n",
      "Days Left:  28 \n",
      "*************\n",
      "\n",
      "[9] :  False\n",
      "Days Left:  28 \n",
      "*************\n",
      "\n",
      "[10] :  False\n",
      "Days Left:  28 \n",
      "*************\n",
      "\n",
      "[11] :  False\n",
      "Days Left:  59 \n",
      "*************\n",
      "\n",
      "[12] :  False\n",
      "Days Left:  21 \n",
      "*************\n",
      "\n",
      "[13] :  False\n",
      "Days Left:  19 \n",
      "*************\n",
      "\n",
      "[14] :  False\n",
      "Days Left:  17 \n",
      "*************\n",
      "\n",
      "[15] :  False\n",
      "Days Left:  47 \n",
      "*************\n",
      "\n",
      "[16] :  False\n",
      "Days Left:  19 \n",
      "*************\n",
      "\n",
      "[17] :  False\n",
      "Days Left:  14 \n",
      "*************\n",
      "\n",
      "[18] :  False\n",
      "Days Left:  10 \n",
      "*************\n",
      "\n",
      "[19] :  True\n",
      "Days Left: 3\n",
      "Sommerjobb for samfunnsfaglig masterstudent\n",
      "https://www.jobbnorge.no//en/available-jobs/job/125844/sommerjobb-for-samfunnsfaglig-masterstudent\n",
      "*****************************************\n",
      "[19] :  False\n",
      "Days Left:  3 \n",
      "*************\n",
      "\n",
      "[20] :  False\n",
      "Days Left:  10 \n",
      "*************\n",
      "\n",
      "[21] :  False\n",
      "Days Left:  21 \n",
      "*************\n",
      "\n",
      "[22] :  False\n",
      "Days Left:  14 \n",
      "*************\n",
      "\n",
      "[23] :  False\n",
      "Days Left:  21 \n",
      "*************\n",
      "\n"
     ]
    }
   ],
   "source": [
    "jobs = 'Below are List of jobs Expiring within 7 days\\n----------------------------------------\\n'\n",
    "job_count = 0\n",
    "i = 0\n",
    "while i < len(job_link):\n",
    "    url = job_link[i]\n",
    "    req = requests.get(url)\n",
    "    soup = BeautifulSoup(req.content, 'lxml')\n",
    "    title = soup.findChildren('section')[0].findChildren('h2')[0]\n",
    "   \n",
    "    content = soup.findChildren('div',attrs={'class':'left-col col-3 info'})\n",
    " \n",
    "    date = content[0].findChildren('div')[1].text\n",
    "    employer = content[0].findChildren('div')[2].text\n",
    "    municipality = content[0].findChildren('div')[3].text\n",
    "    \n",
    "    title = title.string.strip()\n",
    "    employer = employer.strip()\n",
    "    municipality = municipality.strip()\n",
    "    date = date.replace(\"\\r\\n\",\" \")\n",
    "    date = date.strip()\n",
    "    \n",
    "    today = datetime.date.today()\n",
    "    deadlines = datetime.datetime.strptime(date, \"%m/%d/%Y\").date()\n",
    "    difference = deadlines - today\n",
    "\n",
    "    days_left = int(difference.days)\n",
    "    \n",
    "    \n",
    "    \n",
    "    if days_left == 7:\n",
    "        jobs +=\"\\n ********** 7 Days Left ************* \\n\\n  Job Title:   {} \\n\\n University:   {} \\n\\n Location:   {} \\n DeadLine:   {}\\n Job Link:   {}\\n----------------------------------------\\n\\n\".format(title,employer,municipality,date,url)\n",
    "        print('[{}] :  True'.format(i+1))\n",
    "        print(\"Days Left:\", days_left)\n",
    "        print(title)\n",
    "        print(url)\n",
    "        print(\"*****************************************\")\n",
    "        job_count +=1\n",
    "\n",
    "    if days_left == 3:\n",
    "        jobs +=\"\\n ********** 3 Days Left ************* \\n\\n  Job Title:   {} \\n\\n University:   {} \\n\\n Location:   {} \\n DeadLine:   {}\\n Job Link:   {}\\n----------------------------------------\\n\\n\".format(title,employer,municipality,date,url)\n",
    "        print('[{}] :  True'.format(i+1))\n",
    "        print(\"Days Left:\", days_left)\n",
    "        print(title)\n",
    "        print(url)\n",
    "        print(\"*****************************************\")\n",
    "        job_count +=1\n",
    "\n",
    "\n",
    "    if days_left == 1:\n",
    "        \n",
    "        jobs +=\"\\n ********** 1 Day Left ************* \\n\\n  Job Title:   {} \\n\\n University:   {} \\n\\n Location:   {} \\n DeadLine:   {}\\n Job Link:   {}\\n----------------------------------------\\n\\n\".format(title,employer,municipality,date,url)\n",
    "        print('[{}] :  True'.format(i+1))\n",
    "        print(\"Days Left:\", days_left)\n",
    "        print(title)\n",
    "        print(url)\n",
    "        print(\"*****************************************\")\n",
    "        job_count +=1\n",
    "        \n",
    "    else:\n",
    "        print('[{}] :  False'.format(i+1))\n",
    "        print(\"Days Left: \", days_left ,\"\\n*************\\n\")\n",
    "        \n",
    "    i+=1\n",
    "print(\"The End\")"
   ]
  },
  {
   "cell_type": "code",
   "execution_count": null,
   "metadata": {
    "collapsed": false
   },
   "outputs": [],
   "source": [
    "mail('bikeshkawang@gmail.com',jobs,job_count)\n"
   ]
  },
  {
   "cell_type": "code",
   "execution_count": null,
   "metadata": {
    "collapsed": false
   },
   "outputs": [],
   "source": [
    "job_count"
   ]
  }
 ],
 "metadata": {
  "kernelspec": {
   "display_name": "Python 3",
   "language": "python",
   "name": "python3"
  },
  "language_info": {
   "codemirror_mode": {
    "name": "ipython",
    "version": 3
   },
   "file_extension": ".py",
   "mimetype": "text/x-python",
   "name": "python",
   "nbconvert_exporter": "python",
   "pygments_lexer": "ipython3",
   "version": "3.5.1"
  }
 },
 "nbformat": 4,
 "nbformat_minor": 0
}
